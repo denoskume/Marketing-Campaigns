{
 "cells": [
  {
   "cell_type": "markdown",
   "id": "2d02a592",
   "metadata": {},
   "source": [
    "# Marketing Campaign Analysis\n",
    "\n",
    "This notebook analyzes customer data to understand factors influencing marketing campaign performance."
   ]
  },
  {
   "cell_type": "code",
   "execution_count": null,
   "id": "be9561cb",
   "metadata": {},
   "outputs": [],
   "source": [
    "import pandas as pd\n",
    "import numpy as np\n",
    "import matplotlib.pyplot as plt\n",
    "import seaborn as sns"
   ]
  }
 ],
 "metadata": {
  "kernelspec": {
   "display_name": "Python 3 (ipykernel)",
   "language": "python",
   "name": "python3"
  },
  "language_info": {
   "codemirror_mode": {
    "name": "ipython",
    "version": 3
   },
   "file_extension": ".py",
   "mimetype": "text/x-python",
   "name": "python",
   "nbconvert_exporter": "python",
   "pygments_lexer": "ipython3",
   "version": "3.12.9"
  }
 },
 "nbformat": 4,
 "nbformat_minor": 5
}
